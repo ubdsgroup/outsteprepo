{
 "cells": [
  {
   "cell_type": "code",
   "execution_count": 307,
   "metadata": {},
   "outputs": [],
   "source": [
    "from PIL import Image, ImageDraw, ImageFont, ImageOps\n",
    "import numpy as np\n",
    "import matplotlib.pyplot as plt\n",
    "import textwrap\n",
    "import requests\n",
    "from io import BytesIO\n",
    "import json\n",
    "%matplotlib inline"
   ]
  },
  {
   "cell_type": "code",
   "execution_count": 317,
   "metadata": {},
   "outputs": [],
   "source": [
    "with open('specs.json') as json_file:\n",
    "    userdata = json.load(json_file)"
   ]
  },
  {
   "cell_type": "code",
   "execution_count": 333,
   "metadata": {},
   "outputs": [],
   "source": [
    "# user info\n",
    "firstname       = userdata['firstname']\n",
    "lastname        = userdata['lastname']\n",
    "affiliation     = userdata['affiliation']\n",
    "org_logo_url    = userdata['orglogo']\n",
    "role_logo_url   = userdata['rolelogo']\n",
    "expert_logo_url = userdata['expertlogo']\n",
    "is_expert       = userdata['isexpert']\n",
    "primary_sg      = userdata['primarysg']\n",
    "secondary_sg_1  = userdata['secondarysg1']\n",
    "secondary_sg_2  = userdata['secondarysg2']\n",
    "secondary_sg_3  = userdata['secondarysg3']\n",
    "secondary_sg_4  = userdata['secondarysg4']\n",
    "\n",
    "primary_p = userdata['peoplesprimary']\n",
    "secondary_p = []\n",
    "for i in range(1,5):\n",
    "    if userdata['peoplessecondary'+str(i)] != -1:\n",
    "        secondary_p.append(userdata['peoplessecondary'+str(i)])"
   ]
  },
  {
   "cell_type": "code",
   "execution_count": 324,
   "metadata": {},
   "outputs": [],
   "source": [
    "peoples_tags = ['P','E','O','P','L','E','S']"
   ]
  },
  {
   "cell_type": "code",
   "execution_count": 327,
   "metadata": {},
   "outputs": [],
   "source": [
    "# Calibri takes roughly 13 characters for 500 at font size 75 and roughly 20 characters for 500 at font size 50\n",
    "c_width = 500/13\n",
    "img_w = 500\n",
    "img_h = int(np.round(img_w*1.588))\n",
    "org_logo_size = 120\n",
    "sg_logo_size = 110"
   ]
  },
  {
   "cell_type": "code",
   "execution_count": 328,
   "metadata": {},
   "outputs": [],
   "source": [
    "def addtext(draw,text,width,img_w,img_h,curr_h,pad_h,font_size):\n",
    "    para = textwrap.wrap(text, width=width)\n",
    "    fnt = ImageFont.truetype('/Library/Fonts/Microsoft/Calibri Bold.ttf', font_size)\n",
    "    for line in para:\n",
    "        w, h = draw.textsize(line, font=fnt)\n",
    "        draw.text(((img_w - w) / 2, curr_h), line, font=fnt,fill=(0, 0, 0))\n",
    "        curr_h += h + pad_h\n",
    "    return draw,curr_h"
   ]
  },
  {
   "cell_type": "code",
   "execution_count": 334,
   "metadata": {},
   "outputs": [],
   "source": [
    "img = Image.new('RGB', (img_w,img_h), color = (255,255,255))\n",
    "draw = ImageDraw.Draw(img)\n",
    "curr_h = 20\n",
    "pad_h = 10\n",
    "#name\n",
    "draw, curr_h = addtext(draw,firstname+' '+lastname,20,img_w,img_h,curr_h,pad_h,60)\n",
    "#affiliation\n",
    "draw, curr_h = addtext(draw,affiliation,20,img_w,img_h,curr_h+30,pad_h,40)\n",
    "# logos\n",
    "curr_h = curr_h + 30\n",
    "response = requests.get(org_logo_url)\n",
    "org_logo_img = Image.open(BytesIO(response.content))\n",
    "o_s = org_logo_img.size\n",
    "org_logo_img_resized = org_logo_img.resize((org_logo_size,org_logo_size),resample=Image.BICUBIC)\n",
    "response = requests.get(role_logo_url)\n",
    "role_logo_img = Image.open(BytesIO(response.content))\n",
    "r_s = role_logo_img.size\n",
    "role_logo_img_resized = role_logo_img.resize((org_logo_size,org_logo_size),resample=Image.BICUBIC)\n",
    "if is_expert:\n",
    "    response = requests.get(expert_logo_url)\n",
    "    expert_logo_img = Image.open(BytesIO(response.content))\n",
    "    e_s = expert_logo_img.size\n",
    "    expert_logo_img_resized = expert_logo_img.resize((org_logo_size,org_logo_size),resample=Image.BICUBIC)\n",
    "if not is_expert:\n",
    "    img.paste(org_logo_img_resized,(50,curr_h))\n",
    "    img.paste(role_logo_img_resized,(50+int(img_w/2),curr_h))\n",
    "else:\n",
    "    img.paste(org_logo_img_resized,(30,curr_h))\n",
    "    img.paste(role_logo_img_resized,(int(img_w/2-org_logo_size/2),curr_h))\n",
    "    img.paste(expert_logo_img_resized,(80+int(img_w/2),curr_h))\n",
    "\n",
    "# sustainability goals\n",
    "curr_h = curr_h + sg_logo_size + 80\n",
    "response = requests.get(primary_sg)\n",
    "sg_p_img = Image.open(BytesIO(response.content))\n",
    "p_s = sg_p_img.size\n",
    "sg_p_img_resized = sg_p_img.resize((2*sg_logo_size,2*sg_logo_size),resample=Image.BICUBIC)\n",
    "img.paste(sg_p_img_resized,(30,curr_h))\n",
    "\n",
    "response = requests.get(secondary_sg_1)\n",
    "sg_p_img = Image.open(BytesIO(response.content))\n",
    "p_s = sg_p_img.size\n",
    "sg_p_img_resized = sg_p_img.resize((sg_logo_size,sg_logo_size),resample=Image.BICUBIC)\n",
    "img.paste(sg_p_img_resized,(30+(2*sg_logo_size)+2,curr_h))\n",
    "\n",
    "response = requests.get(secondary_sg_2)\n",
    "sg_p_img = Image.open(BytesIO(response.content))\n",
    "p_s = sg_p_img.size\n",
    "sg_p_img_resized = sg_p_img.resize((sg_logo_size,sg_logo_size),resample=Image.BICUBIC)\n",
    "img.paste(sg_p_img_resized,(30+(3*sg_logo_size)+4,curr_h))\n",
    "\n",
    "response = requests.get(secondary_sg_3)\n",
    "sg_p_img = Image.open(BytesIO(response.content))\n",
    "p_s = sg_p_img.size\n",
    "sg_p_img_resized = sg_p_img.resize((sg_logo_size,sg_logo_size),resample=Image.BICUBIC)\n",
    "img.paste(sg_p_img_resized,(30+(2*sg_logo_size)+2,curr_h+sg_logo_size))\n",
    "\n",
    "response = requests.get(secondary_sg_4)\n",
    "sg_p_img = Image.open(BytesIO(response.content))\n",
    "p_s = sg_p_img.size\n",
    "sg_p_img_resized = sg_p_img.resize((sg_logo_size,sg_logo_size),resample=Image.BICUBIC)\n",
    "img.paste(sg_p_img_resized,(30+(3*sg_logo_size)+4,curr_h+sg_logo_size))\n",
    "\n",
    "# PEOPLES framework tags\n",
    "curr_h = curr_h + 2*sg_logo_size + 10\n",
    "offset = 25\n",
    "fnt = ImageFont.truetype('/Library/Fonts/Microsoft/Calibri Bold.ttf', 70)\n",
    "i = 1\n",
    "for p in peoples_tags:\n",
    "    fill = (192,192,192)\n",
    "    if i == primary_p:\n",
    "        fill = (220,20,60)\n",
    "    if i in secondary_p:\n",
    "        fill = (0,0,0)\n",
    "    draw.text((offset, curr_h), p, font=fnt,fill=fill)\n",
    "    offset = offset + 70\n",
    "    i = i + 1\n",
    "    \n",
    "#add a border\n",
    "img_b = ImageOps.expand(img,border=10,fill='navy')\n",
    "img_b.save('badge.png',dpi=(300,300))\n"
   ]
  },
  {
   "cell_type": "code",
   "execution_count": 335,
   "metadata": {
    "scrolled": false
   },
   "outputs": [
    {
     "data": {
      "text/plain": [
       "(-0.5, 519.5, 813.5, -0.5)"
      ]
     },
     "execution_count": 335,
     "metadata": {},
     "output_type": "execute_result"
    },
    {
     "data": {
      "image/png": "[encoded data removed]",
      "text/plain": [
       "<Figure size 288x457.344 with 1 Axes>"
      ]
     },
     "metadata": {
      "needs_background": "light"
     },
     "output_type": "display_data"
    }
   ],
   "source": [
    "figure = plt.figure(figsize=(4,4*1.588))\n",
    "plt.imshow(plt.imread('badge.png'))\n",
    "plt.axis('off')\n"
   ]
  }
 ],
 "metadata": {
  "kernelspec": {
   "display_name": "Python 3",
   "language": "python",
   "name": "python3"
  },
  "language_info": {
   "codemirror_mode": {
    "name": "ipython",
    "version": 3
   },
   "file_extension": ".py",
   "mimetype": "text/x-python",
   "name": "python",
   "nbconvert_exporter": "python",
   "pygments_lexer": "ipython3",
   "version": "3.6.8"
  }
 },
 "nbformat": 4,
 "nbformat_minor": 2
}
